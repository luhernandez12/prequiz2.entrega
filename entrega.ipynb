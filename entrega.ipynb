{
 "cells": [
  {
   "cell_type": "code",
   "execution_count": 3,
   "metadata": {},
   "outputs": [],
   "source": [
    "import pandas as pd\n",
    "import numpy  as np\n",
    "import matplotlib.pyplot as plt\n",
    "import scipy.io as sio\n",
    "from scipy.io import loadmat "
   ]
  },
  {
   "cell_type": "code",
   "execution_count": 20,
   "metadata": {},
   "outputs": [],
   "source": [
    "#punto 1\n",
    "matriz_4d=np.random.randint(4, size=(30,20,20,10))\n",
    "\n"
   ]
  },
  {
   "cell_type": "code",
   "execution_count": 19,
   "metadata": {},
   "outputs": [],
   "source": [
    "#punto 2\n",
    "matriz_3d=matriz_4d[:,:,:,0].copy()\n"
   ]
  },
  {
   "cell_type": "code",
   "execution_count": 16,
   "metadata": {},
   "outputs": [
    {
     "name": "stdout",
     "output_type": "stream",
     "text": [
      "3\n",
      "(30, 20, 20)\n",
      "12000\n",
      "int32\n",
      "4\n",
      "48000\n"
     ]
    }
   ],
   "source": [
    "#punto 3: atributos \n",
    "print(matriz_3d.ndim)\n",
    "print(matriz_3d.shape)\n",
    "print(matriz_3d.size)\n",
    "print(matriz_3d.dtype)\n",
    "print(matriz_3d.itemsize)\n",
    "print(matriz_3d.nbytes)\n",
    "\n"
   ]
  },
  {
   "cell_type": "code",
   "execution_count": 17,
   "metadata": {},
   "outputs": [],
   "source": [
    "#punto 4 pasarla a 2d\n",
    "matriz_2d=matriz_3d[:,:,0].copy()\n",
    "\n"
   ]
  },
  {
   "cell_type": "code",
   "execution_count": 18,
   "metadata": {},
   "outputs": [],
   "source": [
    "#punto 5 paso a objeto da5taframe \n",
    "arch=pd.DataFrame(matriz_2d)\n"
   ]
  },
  {
   "cell_type": "code",
   "execution_count": 22,
   "metadata": {},
   "outputs": [],
   "source": [
    "#punto 6 funcion para archivos .mat y .csv\n",
    "def cargar_arch(url):\n",
    "    if url.endswith(\".mat\"):\n",
    "        info=loadmat(url)\n",
    "        return info\n",
    "    elif url.endswith(\".csv\"):\n",
    "        info=np.read_csv(url)\n",
    "        return info "
   ]
  },
  {
   "cell_type": "code",
   "execution_count": null,
   "metadata": {},
   "outputs": [],
   "source": [
    "#punto 7 crear funciones y operaciones \n",
    "\n",
    "def suma (a, int):   #funcion de suma \n",
    "    resultado=np.sum(a, axis=int)\n",
    "    return resultado\n",
    "\n",
    "def resta(a, int):   #funcion de resta \n",
    "    resultado=np.subtract(a, axis=int)\n",
    "    return resultado\n",
    "\n",
    "def multiplicacion(a, int):   #funcion de multiplicacion \n",
    "    resultado = np.multiply(a, axis=int)\n",
    "    return resultado\n",
    "\n",
    "def division(a, int):           #Funcion de division \n",
    "    resultado= np.divide(a, axis=int)\n",
    "    return resultado\n",
    "\n",
    "\n",
    "def logaritmo (a, int):      #funcion logaritmo \n",
    "    resultado= np.log10(a, axis=int)\n",
    "    return resultado\n",
    "\n",
    "def promedio(a, int):          #funcio de promedio \n",
    "    resultado= np.mean(a, axis=int)\n",
    "    return resultado\n",
    "\n",
    "def desviacion_est(a, int):    #funcion de desviacion estandar \n",
    "    resultado= np.std(a, axis=int)\n",
    "    return resultado"
   ]
  },
  {
   "cell_type": "code",
   "execution_count": null,
   "metadata": {},
   "outputs": [],
   "source": [
    "#punto 8 extraccion de archivo .csv de Kaggle\n",
    "dataF=cargar_arch(\"covid19_italy_province.csv\")\n",
    "def suma_df(df,d):\n",
    "    e=df.sum(axis=d)\n",
    "    return e \n",
    "\n",
    "def resta_df(df,d):\n",
    "    e=df.subtract(axis=d)\n",
    "    return e \n",
    "\n",
    "def multiplicacion_df(df,d):\n",
    "    e=df.multiply(axis=d)\n",
    "    return e \n",
    "\n",
    "def division_df(df,d):\n",
    "    e=df.divide(axis=d)\n",
    "    return e \n",
    "\n",
    "def logaritmo_df(df,d):\n",
    "    e=df.log10(axis=d)\n",
    "    return e \n",
    "\n",
    "def promedio_df(df,d):\n",
    "    e=df.mean(axis=d)\n",
    "    return e \n",
    "\n",
    "def desviacion_df(df,d):\n",
    "    e=df.std(axis=d)\n",
    "    return e \n"
   ]
  },
  {
   "cell_type": "code",
   "execution_count": null,
   "metadata": {},
   "outputs": [],
   "source": [
    "#punto 8 extraccion de archivo .csv de Kaggle\n",
    "dataF=cargar_arch(\"covid19_italy_province.csv\")\n",
    "\n",
    "def suma_df(df,d):\n",
    "    e=df.sum(axis=d)\n",
    "    return e \n",
    "\n",
    "def resta_df_df(df,d):\n",
    "    e=df.subtract(axis=d)\n",
    "    return e \n",
    "\n",
    "def multiplicacion_df(df,d):\n",
    "    e=df.multiply(axis=d)\n",
    "    return e \n",
    "\n",
    "def division_df(df,d):\n",
    "    e=df.divide(axis=d)\n",
    "    return e \n",
    "\n",
    "def logaritmo_df_df(df,d):\n",
    "    e=df.log10(axis=d)\n",
    "    return e \n",
    "\n",
    "def promedio_df_df(df,d):\n",
    "    e=df.mean(axis=d)\n",
    "    return e \n",
    "\n",
    "def desviacion_df(df,d):\n",
    "    e=df.std(axis=d)\n",
    "    return e \n"
   ]
  },
  {
   "cell_type": "code",
   "execution_count": 7,
   "metadata": {},
   "outputs": [],
   "source": [
    "#punto 9 graficar la señal del archivo mat del punto 6 y crear funciones para graficar histogramas, stems, barras, pies\n",
    "#version de una sola funcion graficar \n",
    "plt.ion()\n",
    "\n",
    "def grafica (datos_mat, lista, d):\n",
    "\n",
    "    plt.title(lista[0])\n",
    "    plt.xlabel(lista[1][0])\n",
    "    plt.ylabel(lista[1][1])\n",
    "    if lista[2]==True:\n",
    "        plt.legend()\n",
    "    if list[3]==True:\n",
    "        plt.grid(True)\n",
    "\n",
    "    if d==1:\n",
    "        plt.hist(datos, color='pink', linestyle='--')\n",
    "        plt.show()\n",
    "    elif d==2:\n",
    "        plt.stems(datos, color=\"blue\", linestyle=\"-\")\n",
    "        plt.show()\n",
    "    elif d=3:\n",
    "        plt.bar(datos, color=\"purple\", linestyle=\"-.\")\n",
    "        plt.show()\n",
    "    elif d=4:\n",
    "        plt.pies(datos, color=\"green\", lindstyle=\"-\")\n",
    "        plt.show()\n"
   ]
  },
  {
   "cell_type": "code",
   "execution_count": null,
   "metadata": {},
   "outputs": [],
   "source": [
    "#punto 9 graficar la señal del archivo mat del punto 6 y crear funciones para graficar histogramas, stems, barras, pies\n",
    "#version de varias funcion \n",
    "def histograma(datos, titulo, xlabel, ylabel, leyenda, cuadricula):\n",
    "    plt.hist(datos, color='pink', linestyle='--')\n",
    "    plt.xlabel(xlabel)\n",
    "    plt.ylabel(ylabel)\n",
    "    plt.title(titulo)\n",
    "    if leyenda==True:\n",
    "        plt.legend()\n",
    "    if cuadricula==True:\n",
    "        plt.grid(True)\n",
    "    plt.show()\n",
    "\n",
    "def stems(datos, titulo, xlabel, ylabel, leyenda, cuadricula):\n",
    "    plt.stems(datos, color='pink', linestyle='--')\n",
    "    plt.xlabel(xlabel)\n",
    "    plt.ylabel(ylabel)\n",
    "    plt.title(titulo)\n",
    "    if leyenda==True:\n",
    "        plt.legend()\n",
    "    if cuadricula==True:\n",
    "        plt.grid(True)\n",
    "    plt.show()\n",
    "\n",
    "def barras(datos, titulo, xlabel, ylabel, leyenda, cuadricula):\n",
    "    plt.bar(datos, color=\"purple\", linestyle=\"-.\")\n",
    "    plt.xlabel(xlabel)\n",
    "    plt.ylabel(ylabel)\n",
    "    plt.title(titulo)\n",
    "    if leyenda==True:\n",
    "        plt.legend()\n",
    "    if cuadricula==True:\n",
    "        plt.grid(True)\n",
    "    plt.show()\n",
    "\n",
    "def barras(datos, titulo, xlabel, ylabel, leyenda, cuadricula):\n",
    "    plt.pies(datos, color=\"green\", lindstyle=\"-\")\n",
    "    plt.xlabel(xlabel)\n",
    "    plt.ylabel(ylabel)\n",
    "    plt.title(titulo)\n",
    "    if leyenda==True:\n",
    "        plt.legend()\n",
    "    if cuadricula==True:\n",
    "        plt.grid(True)\n",
    "    plt.show()"
   ]
  },
  {
   "cell_type": "code",
   "execution_count": 1,
   "metadata": {},
   "outputs": [],
   "source": [
    "#punto 10 infromacion de la grafica \n",
    "def info_graf():\n",
    "    titulo=input(\"Ingrese el titulo de la grafica\")\n",
    "    ejerx=input(\"Ingrese el nombre del eje x\")\n",
    "    ejery=input(\"Ingrese el nombre del eje y\")\n",
    "    l=input(\"Escoja la opcion de activavion de leyenda:\\n1-Si\\n2-No\")\n",
    "    if l==1:\n",
    "        leyenda==True \n",
    "    elif l==2:\n",
    "        leyenda==False \n",
    "    c=input(\"Escoja la opcion de activavion de cuadricula:\\n1-Si\\n2-No\")\n",
    "    if c==1:\n",
    "        cuadricula==True \n",
    "    elif c==2:\n",
    "        cuadricula==False \n",
    "    \n",
    "    lista=[titulo,[ejex,ejey],leyenda,cuadricula]\n",
    "    return lista \n",
    "    "
   ]
  },
  {
   "cell_type": "code",
   "execution_count": null,
   "metadata": {},
   "outputs": [],
   "source": []
  }
 ],
 "metadata": {
  "kernelspec": {
   "display_name": "base",
   "language": "python",
   "name": "python3"
  },
  "language_info": {
   "codemirror_mode": {
    "name": "ipython",
    "version": 3
   },
   "file_extension": ".py",
   "mimetype": "text/x-python",
   "name": "python",
   "nbconvert_exporter": "python",
   "pygments_lexer": "ipython3",
   "version": "3.11.9"
  },
  "orig_nbformat": 4
 },
 "nbformat": 4,
 "nbformat_minor": 2
}
