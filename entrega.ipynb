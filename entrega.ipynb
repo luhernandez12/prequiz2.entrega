{
 "cells": [
  {
   "cell_type": "code",
   "execution_count": null,
   "metadata": {},
   "outputs": [],
   "source": [
    "import pandas as pd\n",
    "import numpy  as pd \n",
    "import matplotlib.pyplot as plt \n",
    "from scipy.ion as loadmat"
   ]
  }
 ],
 "metadata": {
  "language_info": {
   "name": "python"
  },
  "orig_nbformat": 4
 },
 "nbformat": 4,
 "nbformat_minor": 2
}
